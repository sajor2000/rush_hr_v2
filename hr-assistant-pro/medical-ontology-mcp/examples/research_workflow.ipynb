{
 "cells": [
  {
   "cell_type": "markdown",
   "metadata": {},
   "source": [
    "# Medical Ontology MCP - Research Workflow\n",
    "\n",
    "This notebook demonstrates a complete research workflow using the Medical Ontology MCP server for clinical coding and terminology analysis.\n",
    "\n",
    "## Overview\n",
    "\n",
    "We'll cover:\n",
    "1. Setting up the Medical Ontology MCP\n",
    "2. Searching for medical terms\n",
    "3. Looking up specific codes\n",
    "4. Batch processing clinical data\n",
    "5. Cross-ontology mapping\n",
    "6. Exporting results for statistical analysis\n",
    "\n",
    "## Prerequisites\n",
    "\n",
    "- Medical ontology data (SNOMED CT, ICD-10, RxNorm, LOINC)\n",
    "- Python packages: `pip install medical-ontology-mcp[jupyter,research]`"
   ]
  },
  {
   "cell_type": "markdown",
   "metadata": {},
   "source": [
    "## 1. Setup and Configuration"
   ]
  },
  {
   "cell_type": "code",
   "execution_count": null,
   "metadata": {},
   "outputs": [],
   "source": [
    "# Load the Medical Ontology MCP magic commands\n",
    "%load_ext medical_ontology_mcp.jupyter_magic\n",
    "\n",
    "# Configure data path (adjust to your data location)\n",
    "%medical_config data_path=../data"
   ]
  },
  {
   "cell_type": "code",
   "execution_count": null,
   "metadata": {},
   "outputs": [],
   "source": [
    "# Import required libraries\n",
    "import pandas as pd\n",
    "import numpy as np\n",
    "import matplotlib.pyplot as plt\n",
    "import seaborn as sns\n",
    "from medical_ontology_mcp.client import MedicalOntologyClient\n",
    "\n",
    "# Configure plotting\n",
    "plt.style.use('default')\n",
    "sns.set_palette(\"husl\")\n",
    "\n",
    "print(\"✅ Libraries imported successfully\")"
   ]
  },
  {
   "cell_type": "markdown",
   "metadata": {},
   "source": [
    "## 2. Basic Medical Term Search"
   ]
  },
  {
   "cell_type": "code",
   "execution_count": null,
   "metadata": {},
   "outputs": [],
   "source": [
    "# Search for diabetes-related terms\n",
    "%medical_search diabetes mellitus"
   ]
  },
  {
   "cell_type": "code",
   "execution_count": null,
   "metadata": {},
   "outputs": [],
   "source": [
    "# Search in specific ontology\n",
    "%medical_search --ontology ICD10 --limit 10 hypertension"
   ]
  },
  {
   "cell_type": "code",
   "execution_count": null,
   "metadata": {},
   "outputs": [],
   "source": [
    "# Look up specific codes\n",
    "%medical_lookup ICD10 E11.9"
   ]
  },
  {
   "cell_type": "code",
   "execution_count": null,
   "metadata": {},
   "outputs": [],
   "source": [
    "%medical_lookup RxNorm 6809"
   ]
  },
  {
   "cell_type": "markdown",
   "metadata": {},
   "source": [
    "## 3. Batch Processing Clinical Conditions\n",
    "\n",
    "Process multiple medical conditions at once for research analysis."
   ]
  },
  {
   "cell_type": "code",
   "execution_count": null,
   "metadata": {},
   "outputs": [],
   "source": [
    "# Batch process common chronic conditions\n",
    "%%medical_batch --limit 3\n",
    "diabetes mellitus\n",
    "hypertension\n",
    "chronic kidney disease\n",
    "coronary artery disease\n",
    "chronic obstructive pulmonary disease\n",
    "heart failure\n",
    "atrial fibrillation\n",
    "depression\n",
    "osteoarthritis\n",
    "asthma"
   ]
  },
  {
   "cell_type": "code",
   "execution_count": null,
   "metadata": {},
   "outputs": [],
   "source": [
    "# Analyze the batch results\n",
    "df = _medical_batch_df\n",
    "print(f\"📊 Batch Processing Summary:\")\n",
    "print(f\"   Total queries: {df['query'].nunique()}\")\n",
    "print(f\"   Total results: {len(df)}\")\n",
    "print(f\"   Ontologies covered: {', '.join(df['ontology'].unique())}\")\n",
    "\n",
    "# Display results by ontology\n",
    "ontology_counts = df.groupby('ontology').size()\n",
    "print(f\"\\n📋 Results by Ontology:\")\n",
    "for ontology, count in ontology_counts.items():\n",
    "    print(f\"   {ontology}: {count} results\")"
   ]
  },
  {
   "cell_type": "markdown",
   "metadata": {},
   "source": [
    "## 4. Research Analysis and Visualization"
   ]
  },
  {
   "cell_type": "code",
   "execution_count": null,
   "metadata": {},
   "outputs": [],
   "source": [
    "# Create visualization of search results\n",
    "fig, axes = plt.subplots(1, 2, figsize=(15, 6))\n",
    "\n",
    "# Results by ontology\n",
    "ontology_counts.plot(kind='bar', ax=axes[0], color='skyblue')\n",
    "axes[0].set_title('Medical Codes Found by Ontology')\n",
    "axes[0].set_ylabel('Number of Codes')\n",
    "axes[0].tick_params(axis='x', rotation=45)\n",
    "\n",
    "# Results by condition\n",
    "condition_counts = df.groupby('query').size().sort_values(ascending=False)\n",
    "condition_counts.head(8).plot(kind='barh', ax=axes[1], color='lightcoral')\n",
    "axes[1].set_title('Medical Codes Found by Condition')\n",
    "axes[1].set_xlabel('Number of Codes')\n",
    "\n",
    "plt.tight_layout()\n",
    "plt.show()\n",
    "\n",
    "print(\"📈 Visualization complete\")"
   ]
  },
  {
   "cell_type": "markdown",
   "metadata": {},
   "source": [
    "## 5. Clinical Data Processing Example\n",
    "\n",
    "Simulate processing clinical notes or discharge summaries."
   ]
  },
  {
   "cell_type": "code",
   "execution_count": null,
   "metadata": {},
   "outputs": [],
   "source": [
    "# Simulate clinical notes data\n",
    "clinical_notes = [\n",
    "    {\n",
    "        'patient_id': 'P001',\n",
    "        'note': 'Patient presents with type 2 diabetes mellitus and hypertension. Blood pressure elevated.',\n",
    "        'primary_diagnosis': 'diabetes mellitus type 2',\n",
    "        'secondary_diagnosis': 'hypertension'\n",
    "    },\n",
    "    {\n",
    "        'patient_id': 'P002', \n",
    "        'note': 'Acute myocardial infarction with subsequent heart failure. Patient stable.',\n",
    "        'primary_diagnosis': 'myocardial infarction',\n",
    "        'secondary_diagnosis': 'heart failure'\n",
    "    },\n",
    "    {\n",
    "        'patient_id': 'P003',\n",
    "        'note': 'Chronic kidney disease stage 4 with anemia. Requires dialysis planning.',\n",
    "        'primary_diagnosis': 'chronic kidney disease',\n",
    "        'secondary_diagnosis': 'anemia'\n",
    "    },\n",
    "    {\n",
    "        'patient_id': 'P004',\n",
    "        'note': 'Pneumonia with COPD exacerbation. Started on antibiotics and bronchodilators.',\n",
    "        'primary_diagnosis': 'pneumonia',\n",
    "        'secondary_diagnosis': 'COPD exacerbation'\n",
    "    }\n",
    "]\n",
    "\n",
    "clinical_df = pd.DataFrame(clinical_notes)\n",
    "print(\"📋 Clinical Notes Dataset:\")\n",
    "display(clinical_df)"
   ]
  },
  {
   "cell_type": "code",
   "execution_count": null,
   "metadata": {},
   "outputs": [],
   "source": [
    "# Process diagnoses and get ICD-10 codes\n",
    "async def process_clinical_data(clinical_df):\n",
    "    \"\"\"Process clinical data and add ICD-10 codes\"\"\"\n",
    "    client = MedicalOntologyClient(data_path='../data')\n",
    "    await client.initialize()\n",
    "    \n",
    "    # Process primary diagnoses\n",
    "    primary_codes = []\n",
    "    secondary_codes = []\n",
    "    \n",
    "    for _, row in clinical_df.iterrows():\n",
    "        # Get ICD-10 codes for primary diagnosis\n",
    "        primary_results = await client.search(row['primary_diagnosis'], ['ICD10'], limit=1)\n",
    "        if primary_results['ICD10']:\n",
    "            primary_codes.append(primary_results['ICD10'][0]['code'])\n",
    "        else:\n",
    "            primary_codes.append('Not found')\n",
    "        \n",
    "        # Get ICD-10 codes for secondary diagnosis\n",
    "        secondary_results = await client.search(row['secondary_diagnosis'], ['ICD10'], limit=1)\n",
    "        if secondary_results['ICD10']:\n",
    "            secondary_codes.append(secondary_results['ICD10'][0]['code'])\n",
    "        else:\n",
    "            secondary_codes.append('Not found')\n",
    "    \n",
    "    await client.close()\n",
    "    \n",
    "    return primary_codes, secondary_codes\n",
    "\n",
    "# Run the processing\n",
    "import asyncio\n",
    "\n",
    "primary_codes, secondary_codes = await process_clinical_data(clinical_df)\n",
    "\n",
    "# Add codes to dataframe\n",
    "clinical_df['primary_icd10'] = primary_codes\n",
    "clinical_df['secondary_icd10'] = secondary_codes\n",
    "\n",
    "print(\"✅ Clinical data processed with ICD-10 codes:\")\n",
    "display(clinical_df[['patient_id', 'primary_diagnosis', 'primary_icd10', 'secondary_diagnosis', 'secondary_icd10']])"
   ]
  },
  {
   "cell_type": "markdown",
   "metadata": {},
   "source": [
    "## 6. Medication Analysis with RxNorm"
   ]
  },
  {
   "cell_type": "code",
   "execution_count": null,
   "metadata": {},
   "outputs": [],
   "source": [
    "# Search for common diabetes medications\n",
    "%%medical_batch --ontology RxNorm --limit 2\n",
    "metformin\n",
    "insulin\n",
    "glipizide\n",
    "linagliptin\n",
    "empagliflozin"
   ]
  },
  {
   "cell_type": "code",
   "execution_count": null,
   "metadata": {},
   "outputs": [],
   "source": [
    "# Analyze medication results\n",
    "medication_df = _medical_batch_df\n",
    "print(f\"💊 Medication Analysis:\")\n",
    "print(f\"   Medications searched: {medication_df['query'].nunique()}\")\n",
    "print(f\"   RxNorm codes found: {len(medication_df)}\")\n",
    "\n",
    "# Group by medication\n",
    "med_summary = medication_df.groupby('query').agg({\n",
    "    'code': 'count',\n",
    "    'preferred_term': lambda x: '; '.join(x)\n",
    "}).rename(columns={'code': 'codes_found', 'preferred_term': 'formulations'})\n",
    "\n",
    "display(med_summary)"
   ]
  },
  {
   "cell_type": "markdown",
   "metadata": {},
   "source": [
    "## 7. Export for Statistical Analysis"
   ]
  },
  {
   "cell_type": "code",
   "execution_count": null,
   "metadata": {},
   "outputs": [],
   "source": [
    "# Prepare data for export to R/STATA/SPSS\n",
    "export_df = clinical_df.copy()\n",
    "\n",
    "# Create binary indicators for common conditions\n",
    "conditions = ['diabetes', 'hypertension', 'heart failure', 'kidney disease']\n",
    "\n",
    "for condition in conditions:\n",
    "    export_df[f'has_{condition.replace(\" \", \"_\")}'] = (\n",
    "        export_df['primary_diagnosis'].str.contains(condition, case=False) |\n",
    "        export_df['secondary_diagnosis'].str.contains(condition, case=False)\n",
    "    ).astype(int)\n",
    "\n",
    "# Add ICD-10 chapter information\n",
    "def get_icd_chapter(code):\n",
    "    \"\"\"Extract ICD-10 chapter from code\"\"\"\n",
    "    if pd.isna(code) or code == 'Not found':\n",
    "        return None\n",
    "    if code.startswith('E'):\n",
    "        return 'Endocrine'\n",
    "    elif code.startswith('I'):\n",
    "        return 'Circulatory'\n",
    "    elif code.startswith('N'):\n",
    "        return 'Genitourinary'\n",
    "    elif code.startswith('J'):\n",
    "        return 'Respiratory'\n",
    "    else:\n",
    "        return 'Other'\n",
    "\n",
    "export_df['primary_chapter'] = export_df['primary_icd10'].apply(get_icd_chapter)\n",
    "export_df['secondary_chapter'] = export_df['secondary_icd10'].apply(get_icd_chapter)\n",
    "\n",
    "print(\"📊 Data prepared for statistical analysis:\")\n",
    "display(export_df)"
   ]
  },
  {
   "cell_type": "code",
   "execution_count": null,
   "metadata": {},
   "outputs": [],
   "source": [
    "# Export to various formats\n",
    "export_df.to_csv('clinical_data_coded.csv', index=False)\n",
    "export_df.to_excel('clinical_data_coded.xlsx', index=False)\n",
    "\n",
    "# Create STATA-compatible variable labels\n",
    "stata_labels = {\n",
    "    'patient_id': 'Patient Identifier',\n",
    "    'primary_icd10': 'Primary Diagnosis ICD-10 Code',\n",
    "    'secondary_icd10': 'Secondary Diagnosis ICD-10 Code',\n",
    "    'has_diabetes': 'Has Diabetes (0=No, 1=Yes)',\n",
    "    'has_hypertension': 'Has Hypertension (0=No, 1=Yes)',\n",
    "    'primary_chapter': 'ICD-10 Chapter for Primary Diagnosis'\n",
    "}\n",
    "\n",
    "# Save labels to file\n",
    "with open('variable_labels.txt', 'w') as f:\n",
    "    for var, label in stata_labels.items():\n",
    "        f.write(f'{var}: {label}\\n')\n",
    "\n",
    "print(\"✅ Data exported to:\")\n",
    "print(\"   - clinical_data_coded.csv (for R/Python)\")\n",
    "print(\"   - clinical_data_coded.xlsx (for Excel)\")\n",
    "print(\"   - variable_labels.txt (for STATA/SPSS)\")"
   ]
  },
  {
   "cell_type": "markdown",
   "metadata": {},
   "source": [
    "## 8. Research Summary and Next Steps"
   ]
  },
  {
   "cell_type": "code",
   "execution_count": null,
   "metadata": {},
   "outputs": [],
   "source": [
    "# Generate research summary\n",
    "summary = {\n",
    "    'total_patients': len(clinical_df),\n",
    "    'conditions_analyzed': len(conditions),\n",
    "    'icd10_codes_found': len([c for c in clinical_df['primary_icd10'] if c != 'Not found']),\n",
    "    'medications_searched': medication_df['query'].nunique() if 'medication_df' in locals() else 0,\n",
    "    'ontologies_used': ['ICD-10', 'RxNorm', 'SNOMED CT', 'LOINC']\n",
    "}\n",
    "\n",
    "print(\"📋 Research Workflow Summary:\")\n",
    "print(\"=\"*50)\n",
    "for key, value in summary.items():\n",
    "    if isinstance(value, list):\n",
    "        print(f\"{key.replace('_', ' ').title()}: {', '.join(value)}\")\n",
    "    else:\n",
    "        print(f\"{key.replace('_', ' ').title()}: {value}\")\n",
    "\n",
    "print(\"\\n🎯 Recommended Next Steps:\")\n",
    "print(\"1. Scale up to larger clinical datasets\")\n",
    "print(\"2. Implement cross-ontology mapping\")\n",
    "print(\"3. Add natural language processing for free-text notes\")\n",
    "print(\"4. Integrate with electronic health record systems\")\n",
    "print(\"5. Develop predictive models using coded data\")\n",
    "\n",
    "print(\"\\n📖 Additional Resources:\")\n",
    "print(\"- Medical Ontology MCP Documentation: https://medical-ontology-mcp.readthedocs.io/\")\n",
    "print(\"- FAIR Data Principles: https://www.go-fair.org/fair-principles/\")\n",
    "print(\"- Clinical Research Informatics: https://www.ncbi.nlm.nih.gov/pmc/\")"
   ]
  },
  {
   "cell_type": "markdown",
   "metadata": {},
   "source": [
    "## Citation\n",
    "\n",
    "If you use this workflow in your research, please cite:\n",
    "\n",
    "```bibtex\n",
    "@software{medical_ontology_mcp,\n",
    "  author = {Medical Informatics Research Team},\n",
    "  title = {Medical Ontology MCP Server},\n",
    "  year = {2024},\n",
    "  publisher = {GitHub},\n",
    "  url = {https://github.com/sajor2000/mcp_medicalterminology}\n",
    "}\n",
    "```\n",
    "\n",
    "---\n",
    "\n",
    "**Note**: This software is for research purposes only and should not be used for clinical decision making."
   ]
  }
 ],
 "metadata": {
  "kernelspec": {
   "display_name": "Python 3",
   "language": "python",
   "name": "python3"
  },
  "language_info": {
   "codemirror_mode": {
    "name": "ipython",
    "version": 3
   },
   "file_extension": ".py",
   "mimetype": "text/x-python",
   "name": "python",
   "nbconvert_exporter": "python",
   "pygments_lexer": "ipython3",
   "version": "3.8.0"
  }
 },
 "nbformat": 4,
 "nbformat_minor": 4
}